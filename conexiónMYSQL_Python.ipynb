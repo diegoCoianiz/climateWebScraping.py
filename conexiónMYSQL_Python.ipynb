{
  "nbformat": 4,
  "nbformat_minor": 0,
  "metadata": {
    "colab": {
      "provenance": []
    },
    "kernelspec": {
      "name": "python3",
      "display_name": "Python 3"
    },
    "language_info": {
      "name": "python"
    }
  },
  "cells": [
    {
      "cell_type": "markdown",
      "source": [
        "# Conexión MYSQL con Python\n",
        "\n",
        "**1) Instalar pymysql para poder conectarnos desde Python**\n",
        "\n",
        "\n",
        "\n",
        "\n",
        "\n",
        "\n",
        "\n"
      ],
      "metadata": {
        "id": "zGJ0sDckvw57"
      }
    },
    {
      "cell_type": "code",
      "source": [
        "pip install pymysql"
      ],
      "metadata": {
        "id": "G73kQw43w9q8"
      },
      "execution_count": null,
      "outputs": []
    },
    {
      "cell_type": "markdown",
      "source": [
        "**2) Conexión a la BBDD**"
      ],
      "metadata": {
        "id": "4sHqJucJwtlx"
      }
    },
    {
      "cell_type": "code",
      "source": [
        "import pymysql\n",
        "try:\n",
        "\tconexion = pymysql.connect(host='localhost',\n",
        "                             user='root',\n",
        "                             password='',\n",
        "                             db='')\n",
        "\tprint(\"Conexión correcta\")\n",
        "except (pymysql.err.OperationalError, pymysql.err.InternalError) as e:\n",
        "\tprint(\"Ocurrió un error al conectar: \", e)"
      ],
      "metadata": {
        "id": "uV-zaJD3wnF3"
      },
      "execution_count": null,
      "outputs": []
    },
    {
      "cell_type": "markdown",
      "source": [
        "**A modo de ejemplo usaremos la base de datos \"películas\"**\n",
        "\n",
        "---\n",
        "\n"
      ],
      "metadata": {
        "id": "zn7gNRU81-xe"
      }
    },
    {
      "cell_type": "markdown",
      "source": [
        "**3) Consulta de base de datos**\n",
        "\n",
        "\n",
        "\n",
        "\n",
        "\n",
        "\n"
      ],
      "metadata": {
        "id": "NsdUY5UcxAJy"
      }
    },
    {
      "cell_type": "code",
      "source": [
        "import pymysql\n",
        "try:\n",
        "\tconexion = pymysql.connect(host='localhost',\n",
        "                             user='root',\n",
        "                             password='',\n",
        "                             db='peliculas')\n",
        "\ttry:\n",
        "\t\twith conexion.cursor() as cursor:\n",
        "\t\t\t# En este caso no necesitamos limpiar ningún dato\n",
        "\t\t\tcursor.execute(\"SELECT id, titulo, anio FROM peliculas;\")\n",
        "\n",
        "\t\t\t# Con fetchall traemos todas las filas\n",
        "\t\t\tpeliculas = cursor.fetchall()\n",
        "\n",
        "\t\t\t# Recorrer e imprimir\n",
        "\t\t\tfor pelicula in peliculas:\n",
        "\t\t\t\tprint(pelicula)\n",
        "\tfinally:\n",
        "\t\tconexion.close()\n",
        "\t\n",
        "except (pymysql.err.OperationalError, pymysql.err.InternalError) as e:\n",
        "\tprint(\"Ocurrió un error al conectar: \", e)"
      ],
      "metadata": {
        "id": "wtKHb3340bhJ"
      },
      "execution_count": null,
      "outputs": []
    },
    {
      "cell_type": "markdown",
      "source": [
        "**4) Consulta con sentencia WHERE**"
      ],
      "metadata": {
        "id": "M0R9-9hU0l06"
      }
    },
    {
      "cell_type": "code",
      "source": [
        "import pymysql\n",
        "try:\n",
        "\tconexion = pymysql.connect(host='localhost',\n",
        "                             user='root',\n",
        "                             password='',\n",
        "                             db='peliculas')\n",
        "\ttry:\n",
        "\t\twith conexion.cursor() as cursor:\n",
        "\t\t\t\n",
        "\t\t\tconsulta = \"SELECT id, titulo, anio FROM peliculas WHERE anio > %s;\"\n",
        "\t\t\tcursor.execute(consulta, (2000))\n",
        "\n",
        "\t\t\t# Con fetchall traemos todas las filas\n",
        "\t\t\tpeliculas = cursor.fetchall()\n",
        "\n",
        "\t\t\t# Recorrer e imprimir\n",
        "\t\t\tfor pelicula in peliculas:\n",
        "\t\t\t\tprint(pelicula)\n",
        "\tfinally:\n",
        "\t\tconexion.close()\n",
        "\t\n",
        "except (pymysql.err.OperationalError, pymysql.err.InternalError) as e:\n",
        "\tprint(\"Ocurrió un error al conectar: \", e)"
      ],
      "metadata": {
        "id": "dno5U_WO03p7"
      },
      "execution_count": null,
      "outputs": []
    },
    {
      "cell_type": "markdown",
      "source": [
        "**5) Editar**"
      ],
      "metadata": {
        "id": "Rn0bUR7A1ITo"
      }
    },
    {
      "cell_type": "code",
      "source": [
        "import pymysql\n",
        "try:\n",
        "\tconexion = pymysql.connect(host='localhost',\n",
        "                             user='root',\n",
        "                             password='',\n",
        "                             db='peliculas')\n",
        "\ttry:\n",
        "\t\twith conexion.cursor() as cursor:\n",
        "\t\t\t\n",
        "\t\t\tconsulta = \"UPDATE peliculas SET titulo = %s WHERE id = %s;\"\n",
        "\t\t\tnuevo_titulo = \"Ready Player One: comienza el juego\"\n",
        "\t\t\tid_editar = 2\n",
        "\t\t\tcursor.execute(consulta, (nuevo_titulo, id_editar))\n",
        "\n",
        "\t\t# No olvidemos hacer commit cuando hacemos un cambio a la BD\n",
        "\t\tconexion.commit()\n",
        "\tfinally:\n",
        "\t\tconexion.close()\n",
        "\t\n",
        "except (pymysql.err.OperationalError, pymysql.err.InternalError) as e:\n",
        "\tprint(\"Ocurrió un error al conectar: \", e)"
      ],
      "metadata": {
        "id": "jWjIo5-I1Rgk"
      },
      "execution_count": null,
      "outputs": []
    },
    {
      "cell_type": "markdown",
      "source": [
        "**6) Eliminar**"
      ],
      "metadata": {
        "id": "oAyyJjQr1TaK"
      }
    },
    {
      "cell_type": "code",
      "source": [
        "import pymysql\n",
        "try:\n",
        "\tconexion = pymysql.connect(host='localhost',\n",
        "                             user='root',\n",
        "                             password='',\n",
        "                             db='peliculas')\n",
        "\ttry:\n",
        "\t\twith conexion.cursor() as cursor:\n",
        "\t\t\t\n",
        "\t\t\tconsulta = \"DELETE FROM peliculas WHERE anio < %s;\"\n",
        "\t\t\tanio = 2000\n",
        "\t\t\tcursor.execute(consulta, (anio))\n",
        "\n",
        "\t\t# No olvidemos hacer commit cuando hacemos un cambio a la BD\n",
        "\t\tconexion.commit()\n",
        "\tfinally:\n",
        "\t\tconexion.close()\n",
        "\t\n",
        "except (pymysql.err.OperationalError, pymysql.err.InternalError) as e:\n",
        "\tprint(\"Ocurrió un error al conectar: \", e)"
      ],
      "metadata": {
        "id": "_3fekwxb1a-N"
      },
      "execution_count": null,
      "outputs": []
    },
    {
      "cell_type": "markdown",
      "source": [
        "**7) Insertar**"
      ],
      "metadata": {
        "id": "B6wWehc91yX0"
      }
    },
    {
      "cell_type": "code",
      "source": [
        "import pymysql\n",
        "try:\n",
        "\tconexion = pymysql.connect(host='localhost',\n",
        "                             user='root',\n",
        "                             password='',\n",
        "                             db='peliculas')\n",
        "\ttry:\n",
        "\t\twith conexion.cursor() as cursor:\n",
        "\t\t\tconsulta = \"INSERT INTO peliculas(titulo, anio) VALUES (%s, %s);\"\n",
        "\t\t\t#Podemos llamar muchas veces a .execute con datos distintos\n",
        "\t\t\tcursor.execute(consulta, (\"Volver al futuro 1\", 1985))\n",
        "\t\t\tcursor.execute(consulta, (\"Ready Player One\", 2018))\n",
        "\t\t\tcursor.execute(consulta, (\"It\", 2017))\n",
        "\t\t\tcursor.execute(consulta, (\"Pulp Fiction\", 1994))\n",
        "\t\tconexion.commit()\n",
        "\tfinally:\n",
        "\t\tconexion.close()\n",
        "except (pymysql.err.OperationalError, pymysql.err.InternalError) as e:\n",
        "\tprint(\"Ocurrió un error al conectar: \", e)"
      ],
      "metadata": {
        "id": "eSFX82yE10_a"
      },
      "execution_count": null,
      "outputs": []
    }
  ]
}